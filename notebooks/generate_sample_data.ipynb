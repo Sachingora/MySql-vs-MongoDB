{
 "cells": [
  {
   "cell_type": "code",
   "execution_count": 1,
   "metadata": {},
   "outputs": [
    {
     "name": "stderr",
     "output_type": "stream",
     "text": [
      "C:\\Users\\Sachin Gora\\AppData\\Local\\Temp\\ipykernel_22176\\4223550132.py:7: FutureWarning: 'H' is deprecated and will be removed in a future version, please use 'h' instead.\n",
      "  'date': pd.date_range(start='2020-01-01', periods=10000, freq='H'),\n"
     ]
    }
   ],
   "source": [
    "import pandas as pd\n",
    "import numpy as np\n",
    "\n",
    "# Create sample dataset\n",
    "sample_data = pd.DataFrame({\n",
    "    'id': range(1, 10001),\n",
    "    'date': pd.date_range(start='2020-01-01', periods=10000, freq='H'),\n",
    "    'ticker': np.random.choice(['AAPL', 'GOOGL', 'AMZN', 'MSFT'], size=10000),\n",
    "    'close': np.random.uniform(100, 1000, size=10000)\n",
    "})\n",
    "sample_data.to_csv('../data/sample_data.csv', index=False)\n"
   ]
  },
  {
   "cell_type": "code",
   "execution_count": 2,
   "metadata": {},
   "outputs": [
    {
     "name": "stdout",
     "output_type": "stream",
     "text": [
      "MySQL Insertion Time: 4.256014585494995 seconds\n"
     ]
    }
   ],
   "source": [
    "#Measure time to insert data into MySQL:\n",
    "\n",
    "import time\n",
    "import mysql.connector\n",
    "\n",
    "# Connect to MySQL\n",
    "connection = mysql.connector.connect(\n",
    "    host=\"localhost\",\n",
    "    user=\"root\",\n",
    "    password=\"Root\",\n",
    "    database=\"stock_analysis\"\n",
    ")\n",
    "cursor = connection.cursor()\n",
    "\n",
    "# Load sample data\n",
    "sample_data = pd.read_csv('../data/sample_data.csv')\n",
    "\n",
    "# Measure insertion time\n",
    "start_time = time.time()\n",
    "for _, row in sample_data.iterrows():\n",
    "    cursor.execute(\"\"\"\n",
    "    INSERT INTO stock_prices (date, ticker, close)\n",
    "    VALUES (%s, %s, %s)\n",
    "    \"\"\", (row['date'], row['ticker'], row['close']))\n",
    "connection.commit()\n",
    "end_time = time.time()\n",
    "print(f\"MySQL Insertion Time: {end_time - start_time} seconds\")\n"
   ]
  },
  {
   "cell_type": "code",
   "execution_count": 3,
   "metadata": {},
   "outputs": [
    {
     "name": "stdout",
     "output_type": "stream",
     "text": [
      "MongoDB Insertion Time: 0.15366864204406738 seconds\n"
     ]
    }
   ],
   "source": [
    "#Measure time to insert data into MongoDB\n",
    "\n",
    "from pymongo import MongoClient\n",
    "import time\n",
    "\n",
    "# Connect to MongoDB\n",
    "client = MongoClient(\"mongodb://localhost:27017/\")\n",
    "db = client['stock_analysis']\n",
    "\n",
    "# Load sample data\n",
    "sample_data_dict = sample_data.to_dict('records')\n",
    "\n",
    "# Measure insertion time\n",
    "start_time = time.time()\n",
    "db.stock_prices.insert_many(sample_data_dict)\n",
    "end_time = time.time()\n",
    "print(f\"MongoDB Insertion Time: {end_time - start_time} seconds\")\n"
   ]
  },
  {
   "cell_type": "code",
   "execution_count": 4,
   "metadata": {},
   "outputs": [
    {
     "name": "stdout",
     "output_type": "stream",
     "text": [
      "MySQL Query Time: 0.02513432502746582 seconds, Result: (475.9381716104473,)\n"
     ]
    }
   ],
   "source": [
    "#Measure time for a query (e.g., average close price for AAPL):\n",
    "\n",
    "query = \"\"\"\n",
    "SELECT AVG(close) FROM stock_prices WHERE ticker = 'AAPL'\n",
    "\"\"\"\n",
    "start_time = time.time()\n",
    "cursor.execute(query)\n",
    "result = cursor.fetchone()\n",
    "end_time = time.time()\n",
    "print(f\"MySQL Query Time: {end_time - start_time} seconds, Result: {result}\")\n"
   ]
  },
  {
   "cell_type": "code",
   "execution_count": 5,
   "metadata": {},
   "outputs": [
    {
     "name": "stdout",
     "output_type": "stream",
     "text": [
      "MongoDB Query Time: 0.09668684005737305 seconds, Result: [{'_id': None, 'avg_close': 552.4653363254581}]\n"
     ]
    }
   ],
   "source": [
    "#Measure time for a similar query in MongoDB\n",
    "\n",
    "start_time = time.time()\n",
    "result = db.stock_prices.aggregate([\n",
    "    {\"$match\": {\"ticker\": \"AAPL\"}},\n",
    "    {\"$group\": {\"_id\": None, \"avg_close\": {\"$avg\": \"$close\"}}}\n",
    "])\n",
    "end_time = time.time()\n",
    "print(f\"MongoDB Query Time: {end_time - start_time} seconds, Result: {list(result)}\")\n"
   ]
  },
  {
   "cell_type": "code",
   "execution_count": null,
   "metadata": {},
   "outputs": [],
   "source": [
    "comparison = pd.DataFrame({\n",
    "    \"Metric\": [\"Data Ingestion Time\", \"Query Execution Time\"],\n",
    "    \"MySQL\": [4.256014585494995, 0.02513432502746582],\n",
    "    \"MongoDB\": [0.15366864204406738, 0.09668684005737305]\n",
    "})\n",
    "comparison.to_csv('../data/database_comparison.csv', index=False)\n"
   ]
  }
 ],
 "metadata": {
  "kernelspec": {
   "display_name": "venv",
   "language": "python",
   "name": "python3"
  },
  "language_info": {
   "codemirror_mode": {
    "name": "ipython",
    "version": 3
   },
   "file_extension": ".py",
   "mimetype": "text/x-python",
   "name": "python",
   "nbconvert_exporter": "python",
   "pygments_lexer": "ipython3",
   "version": "3.11.5"
  }
 },
 "nbformat": 4,
 "nbformat_minor": 2
}

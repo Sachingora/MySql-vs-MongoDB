{
 "cells": [
  {
   "cell_type": "code",
   "execution_count": null,
   "metadata": {},
   "outputs": [
    {
     "name": "stdout",
     "output_type": "stream",
     "text": [
      "       id        date ticker  \\\n",
      "0  100001  01/01/2020   AMZN   \n",
      "1  100002  01/01/2020   TSLA   \n",
      "2  100003  01/01/2020   AAPL   \n",
      "3  100004  01/01/2020   TSLA   \n",
      "4  100005  01/01/2020   TSLA   \n",
      "\n",
      "                                               tweet  \n",
      "0       $AMZN Dow futures up by 100 points already 🥳  \n",
      "1  $TSLA Daddy's drinkin' eArly tonight! Here's t...  \n",
      "2  $AAPL We’ll been riding since last December fr...  \n",
      "3            $TSLA happy new year, 2020, everyone🍷🎉🙏  \n",
      "4  $TSLA haha just a collection of greats...\"Mars...  \n",
      "         Date       Open       High        Low      Close  Adj Close  \\\n",
      "0  2019-12-31  72.482498  73.419998  72.379997  73.412498  71.520821   \n",
      "1  2020-01-02  74.059998  75.150002  73.797501  75.087502  73.152649   \n",
      "2  2020-01-03  74.287498  75.144997  74.125000  74.357498  72.441460   \n",
      "3  2020-01-06  73.447502  74.989998  73.187500  74.949997  73.018677   \n",
      "4  2020-01-07  74.959999  75.224998  74.370003  74.597504  72.675278   \n",
      "\n",
      "      Volume  \n",
      "0  100805600  \n",
      "1  135480400  \n",
      "2  146322800  \n",
      "3  118387200  \n",
      "4  108872000  \n"
     ]
    }
   ],
   "source": [
    "import pandas as pd\n",
    "\n",
    "# Load tweet data\n",
    "tweets = pd.read_csv(r'C:\\Users\\Sachin Gora\\OneDrive\\Desktop\\project\\data\\stocktweet.csv') # Change the path to the location of the tweet data\n",
    "print(tweets.head())\n",
    "\n",
    "# Load stock price data\n",
    "stock_prices = pd.read_csv(r'C:\\Users\\Sachin Gora\\OneDrive\\Desktop\\project\\data\\AAPL.csv') # Change the path to the location of the stock price data\n",
    "print(stock_prices.head())\n"
   ]
  },
  {
   "cell_type": "code",
   "execution_count": null,
   "metadata": {},
   "outputs": [
    {
     "name": "stdout",
     "output_type": "stream",
     "text": [
      "Collecting pandas\n",
      "  Obtaining dependency information for pandas from https://files.pythonhosted.org/packages/ed/8c/87ddf1fcb55d11f9f847e3c69bb1c6f8e46e2f40ab1a2d2abadb2401b007/pandas-2.2.3-cp311-cp311-win_amd64.whl.metadata\n",
      "  Downloading pandas-2.2.3-cp311-cp311-win_amd64.whl.metadata (19 kB)\n",
      "Collecting numpy>=1.23.2 (from pandas)\n",
      "  Obtaining dependency information for numpy>=1.23.2 from https://files.pythonhosted.org/packages/1e/48/a9a4b538e28f854bfb62e1dea3c8fea12e90216a276c7777ae5345ff29a7/numpy-2.1.3-cp311-cp311-win_amd64.whl.metadata\n",
      "  Downloading numpy-2.1.3-cp311-cp311-win_amd64.whl.metadata (60 kB)\n",
      "     ---------------------------------------- 0.0/60.8 kB ? eta -:--:--\n",
      "     ------ --------------------------------- 10.2/60.8 kB ? eta -:--:--\n",
      "     ------------------------------- ------ 51.2/60.8 kB 650.2 kB/s eta 0:00:01\n",
      "     -------------------------------------- 60.8/60.8 kB 640.6 kB/s eta 0:00:00\n",
      "Requirement already satisfied: python-dateutil>=2.8.2 in c:\\users\\sachin gora\\onedrive\\desktop\\project\\venv\\lib\\site-packages (from pandas) (2.9.0.post0)\n",
      "Collecting pytz>=2020.1 (from pandas)\n",
      "  Obtaining dependency information for pytz>=2020.1 from https://files.pythonhosted.org/packages/11/c3/005fcca25ce078d2cc29fd559379817424e94885510568bc1bc53d7d5846/pytz-2024.2-py2.py3-none-any.whl.metadata\n",
      "  Downloading pytz-2024.2-py2.py3-none-any.whl.metadata (22 kB)\n",
      "Collecting tzdata>=2022.7 (from pandas)\n",
      "  Obtaining dependency information for tzdata>=2022.7 from https://files.pythonhosted.org/packages/a6/ab/7e5f53c3b9d14972843a647d8d7a853969a58aecc7559cb3267302c94774/tzdata-2024.2-py2.py3-none-any.whl.metadata\n",
      "  Downloading tzdata-2024.2-py2.py3-none-any.whl.metadata (1.4 kB)\n",
      "Requirement already satisfied: six>=1.5 in c:\\users\\sachin gora\\onedrive\\desktop\\project\\venv\\lib\\site-packages (from python-dateutil>=2.8.2->pandas) (1.17.0)\n",
      "Downloading pandas-2.2.3-cp311-cp311-win_amd64.whl (11.6 MB)\n",
      "   ---------------------------------------- 0.0/11.6 MB ? eta -:--:--\n",
      "    --------------------------------------- 0.2/11.6 MB 3.3 MB/s eta 0:00:04\n",
      "   - -------------------------------------- 0.4/11.6 MB 3.9 MB/s eta 0:00:03\n",
      "   -- ------------------------------------- 0.7/11.6 MB 4.9 MB/s eta 0:00:03\n",
      "   --- ------------------------------------ 1.0/11.6 MB 5.4 MB/s eta 0:00:02\n",
      "   ---- ----------------------------------- 1.3/11.6 MB 5.7 MB/s eta 0:00:02\n",
      "   ----- ---------------------------------- 1.6/11.6 MB 5.8 MB/s eta 0:00:02\n",
      "   ------ --------------------------------- 2.0/11.6 MB 6.0 MB/s eta 0:00:02\n",
      "   ------- -------------------------------- 2.3/11.6 MB 6.3 MB/s eta 0:00:02\n",
      "   -------- ------------------------------- 2.6/11.6 MB 6.1 MB/s eta 0:00:02\n",
      "   ---------- ----------------------------- 2.9/11.6 MB 6.2 MB/s eta 0:00:02\n",
      "   ----------- ---------------------------- 3.3/11.6 MB 6.3 MB/s eta 0:00:02\n",
      "   ------------ --------------------------- 3.6/11.6 MB 6.5 MB/s eta 0:00:02\n",
      "   ------------- -------------------------- 3.9/11.6 MB 6.4 MB/s eta 0:00:02\n",
      "   -------------- ------------------------- 4.2/11.6 MB 6.6 MB/s eta 0:00:02\n",
      "   --------------- ------------------------ 4.5/11.6 MB 6.6 MB/s eta 0:00:02\n",
      "   ---------------- ----------------------- 4.9/11.6 MB 6.6 MB/s eta 0:00:02\n",
      "   ----------------- ---------------------- 5.2/11.6 MB 6.6 MB/s eta 0:00:01\n",
      "   ------------------ --------------------- 5.5/11.6 MB 6.6 MB/s eta 0:00:01\n",
      "   ------------------- -------------------- 5.8/11.6 MB 6.6 MB/s eta 0:00:01\n",
      "   --------------------- ------------------ 6.1/11.6 MB 6.6 MB/s eta 0:00:01\n",
      "   ---------------------- ----------------- 6.4/11.6 MB 6.6 MB/s eta 0:00:01\n",
      "   ----------------------- ---------------- 6.8/11.6 MB 6.6 MB/s eta 0:00:01\n",
      "   ------------------------ --------------- 7.1/11.6 MB 6.6 MB/s eta 0:00:01\n",
      "   -------------------------- ------------- 7.6/11.6 MB 6.6 MB/s eta 0:00:01\n",
      "   --------------------------- ------------ 8.0/11.6 MB 6.6 MB/s eta 0:00:01\n",
      "   ---------------------------- ----------- 8.3/11.6 MB 6.6 MB/s eta 0:00:01\n",
      "   ----------------------------- ---------- 8.6/11.6 MB 6.7 MB/s eta 0:00:01\n",
      "   ------------------------------ --------- 8.9/11.6 MB 6.7 MB/s eta 0:00:01\n",
      "   -------------------------------- ------- 9.3/11.6 MB 6.7 MB/s eta 0:00:01\n",
      "   --------------------------------- ------ 9.6/11.6 MB 6.8 MB/s eta 0:00:01\n",
      "   ---------------------------------- ----- 9.9/11.6 MB 6.7 MB/s eta 0:00:01\n",
      "   ----------------------------------- ---- 10.2/11.6 MB 6.7 MB/s eta 0:00:01\n",
      "   ------------------------------------ --- 10.5/11.6 MB 6.9 MB/s eta 0:00:01\n",
      "   ------------------------------------- -- 10.9/11.6 MB 6.9 MB/s eta 0:00:01\n",
      "   -------------------------------------- - 11.2/11.6 MB 6.9 MB/s eta 0:00:01\n",
      "   ---------------------------------------  11.5/11.6 MB 6.9 MB/s eta 0:00:01\n",
      "   ---------------------------------------  11.6/11.6 MB 6.9 MB/s eta 0:00:01\n",
      "   ---------------------------------------- 11.6/11.6 MB 6.6 MB/s eta 0:00:00\n",
      "Downloading numpy-2.1.3-cp311-cp311-win_amd64.whl (12.9 MB)\n",
      "   ---------------------------------------- 0.0/12.9 MB ? eta -:--:--\n",
      "   - -------------------------------------- 0.5/12.9 MB 11.1 MB/s eta 0:00:02\n",
      "   -- ------------------------------------- 0.9/12.9 MB 9.5 MB/s eta 0:00:02\n",
      "   --- ------------------------------------ 1.2/12.9 MB 8.3 MB/s eta 0:00:02\n",
      "   ---- ----------------------------------- 1.5/12.9 MB 7.7 MB/s eta 0:00:02\n",
      "   ----- ---------------------------------- 1.8/12.9 MB 7.7 MB/s eta 0:00:02\n",
      "   ------ --------------------------------- 2.1/12.9 MB 7.4 MB/s eta 0:00:02\n",
      "   ------- -------------------------------- 2.4/12.9 MB 7.3 MB/s eta 0:00:02\n",
      "   -------- ------------------------------- 2.7/12.9 MB 7.2 MB/s eta 0:00:02\n",
      "   --------- ------------------------------ 3.0/12.9 MB 7.1 MB/s eta 0:00:02\n",
      "   ---------- ----------------------------- 3.3/12.9 MB 7.2 MB/s eta 0:00:02\n",
      "   ---------- ----------------------------- 3.5/12.9 MB 6.7 MB/s eta 0:00:02\n",
      "   ----------- ---------------------------- 3.8/12.9 MB 6.7 MB/s eta 0:00:02\n",
      "   ------------ --------------------------- 4.1/12.9 MB 6.9 MB/s eta 0:00:02\n",
      "   ------------- -------------------------- 4.5/12.9 MB 6.9 MB/s eta 0:00:02\n",
      "   -------------- ------------------------- 4.8/12.9 MB 6.9 MB/s eta 0:00:02\n",
      "   --------------- ------------------------ 5.1/12.9 MB 6.9 MB/s eta 0:00:02\n",
      "   ---------------- ----------------------- 5.4/12.9 MB 6.9 MB/s eta 0:00:02\n",
      "   ----------------- ---------------------- 5.7/12.9 MB 6.9 MB/s eta 0:00:02\n",
      "   ------------------ --------------------- 6.0/12.9 MB 6.9 MB/s eta 0:00:01\n",
      "   ------------------- -------------------- 6.4/12.9 MB 6.9 MB/s eta 0:00:01\n",
      "   -------------------- ------------------- 6.7/12.9 MB 6.9 MB/s eta 0:00:01\n",
      "   --------------------- ------------------ 7.1/12.9 MB 6.9 MB/s eta 0:00:01\n",
      "   ---------------------- ----------------- 7.4/12.9 MB 6.9 MB/s eta 0:00:01\n",
      "   ------------------------ --------------- 7.7/12.9 MB 7.0 MB/s eta 0:00:01\n",
      "   ------------------------ --------------- 8.0/12.9 MB 6.9 MB/s eta 0:00:01\n",
      "   ------------------------- -------------- 8.3/12.9 MB 6.9 MB/s eta 0:00:01\n",
      "   -------------------------- ------------- 8.7/12.9 MB 6.9 MB/s eta 0:00:01\n",
      "   --------------------------- ------------ 9.0/12.9 MB 6.9 MB/s eta 0:00:01\n",
      "   ---------------------------- ----------- 9.3/12.9 MB 6.9 MB/s eta 0:00:01\n",
      "   ----------------------------- ---------- 9.6/12.9 MB 6.9 MB/s eta 0:00:01\n",
      "   ------------------------------ --------- 9.9/12.9 MB 6.9 MB/s eta 0:00:01\n",
      "   ------------------------------- -------- 10.2/12.9 MB 6.9 MB/s eta 0:00:01\n",
      "   -------------------------------- ------- 10.5/12.9 MB 6.8 MB/s eta 0:00:01\n",
      "   --------------------------------- ------ 10.9/12.9 MB 6.8 MB/s eta 0:00:01\n",
      "   ---------------------------------- ----- 11.2/12.9 MB 6.8 MB/s eta 0:00:01\n",
      "   ----------------------------------- ---- 11.5/12.9 MB 6.8 MB/s eta 0:00:01\n",
      "   ------------------------------------ --- 11.8/12.9 MB 6.8 MB/s eta 0:00:01\n",
      "   ------------------------------------- -- 12.1/12.9 MB 6.8 MB/s eta 0:00:01\n",
      "   -------------------------------------- - 12.5/12.9 MB 6.8 MB/s eta 0:00:01\n",
      "   ---------------------------------------  12.8/12.9 MB 6.9 MB/s eta 0:00:01\n",
      "   ---------------------------------------  12.9/12.9 MB 6.8 MB/s eta 0:00:01\n",
      "   ---------------------------------------  12.9/12.9 MB 6.8 MB/s eta 0:00:01\n",
      "   ---------------------------------------  12.9/12.9 MB 6.8 MB/s eta 0:00:01\n",
      "   ---------------------------------------  12.9/12.9 MB 6.8 MB/s eta 0:00:01\n",
      "   ---------------------------------------- 12.9/12.9 MB 6.0 MB/s eta 0:00:00\n",
      "Downloading pytz-2024.2-py2.py3-none-any.whl (508 kB)\n",
      "   ---------------------------------------- 0.0/508.0 kB ? eta -:--:--\n",
      "   ------------------------------- -------- 399.4/508.0 kB 8.5 MB/s eta 0:00:01\n",
      "   ---------------------------------------- 508.0/508.0 kB 6.4 MB/s eta 0:00:00\n",
      "Downloading tzdata-2024.2-py2.py3-none-any.whl (346 kB)\n",
      "   ---------------------------------------- 0.0/346.6 kB ? eta -:--:--\n",
      "   ------------------------------------ --- 317.4/346.6 kB 6.7 MB/s eta 0:00:01\n",
      "   ---------------------------------------- 346.6/346.6 kB 5.4 MB/s eta 0:00:00\n",
      "Installing collected packages: pytz, tzdata, numpy, pandas\n",
      "Successfully installed numpy-2.1.3 pandas-2.2.3 pytz-2024.2 tzdata-2024.2\n",
      "Note: you may need to restart the kernel to use updated packages.\n"
     ]
    },
    {
     "name": "stderr",
     "output_type": "stream",
     "text": [
      "\n",
      "[notice] A new release of pip is available: 23.2.1 -> 24.3.1\n",
      "[notice] To update, run: python.exe -m pip install --upgrade pip\n"
     ]
    }
   ],
   "source": [
    "pip install pandas\n"
   ]
  },
  {
   "cell_type": "code",
   "execution_count": 7,
   "metadata": {},
   "outputs": [
    {
     "name": "stdout",
     "output_type": "stream",
     "text": [
      "id        0\n",
      "date      0\n",
      "ticker    0\n",
      "tweet     0\n",
      "dtype: int64\n",
      "Date         0\n",
      "Open         0\n",
      "High         0\n",
      "Low          0\n",
      "Close        0\n",
      "Adj Close    0\n",
      "Volume       0\n",
      "dtype: int64\n"
     ]
    }
   ],
   "source": [
    "print(tweets.isnull().sum())\n",
    "print(stock_prices.isnull().sum())\n",
    "\n",
    "# Drop duplicates if any\n",
    "tweets.drop_duplicates(inplace=True)\n",
    "stock_prices.drop_duplicates(inplace=True)\n"
   ]
  },
  {
   "cell_type": "code",
   "execution_count": 9,
   "metadata": {},
   "outputs": [
    {
     "name": "stderr",
     "output_type": "stream",
     "text": [
      "C:\\Users\\Sachin Gora\\AppData\\Local\\Temp\\ipykernel_23760\\1017259942.py:2: UserWarning: Parsing dates in %Y-%m-%d format when dayfirst=True was specified. Pass `dayfirst=False` or specify a format to silence this warning.\n",
      "  stock_prices['Date'] = pd.to_datetime(stock_prices['Date'], dayfirst=True)\n"
     ]
    }
   ],
   "source": [
    "tweets['date'] = pd.to_datetime(tweets['date'], dayfirst=True)\n",
    "stock_prices['Date'] = pd.to_datetime(stock_prices['Date'], dayfirst=True)\n"
   ]
  },
  {
   "cell_type": "code",
   "execution_count": null,
   "metadata": {},
   "outputs": [],
   "source": []
  },
  {
   "cell_type": "code",
   "execution_count": null,
   "metadata": {},
   "outputs": [],
   "source": [
    "tweets.to_csv('C:/Users/Sachin Gora/OneDrive/Desktop/project/data/cleaned_tweets.csv', index=False) # saving the cleaned tweets data to a csv file\n",
    "stock_prices.to_csv('C:/Users/Sachin Gora/OneDrive/Desktop/project/data/cleaned_stock_prices.csv', index=False) # saving the cleaned stock prices data to a csv file\n"
   ]
  }
 ],
 "metadata": {
  "kernelspec": {
   "display_name": "venv",
   "language": "python",
   "name": "python3"
  },
  "language_info": {
   "codemirror_mode": {
    "name": "ipython",
    "version": 3
   },
   "file_extension": ".py",
   "mimetype": "text/x-python",
   "name": "python",
   "nbconvert_exporter": "python",
   "pygments_lexer": "ipython3",
   "version": "3.11.5"
  }
 },
 "nbformat": 4,
 "nbformat_minor": 2
}
